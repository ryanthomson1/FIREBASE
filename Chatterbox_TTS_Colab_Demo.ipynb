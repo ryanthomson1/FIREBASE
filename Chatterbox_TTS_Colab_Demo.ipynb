{
  "nbformat": 4,
  "nbformat_minor": 0,
  "metadata": {
    "colab": {
      "provenance": [],
      "gpuType": "T4",
      "include_colab_link": true
    },
    "kernelspec": {
      "name": "python3",
      "display_name": "Python 3"
    },
    "language_info": {
      "name": "python"
    },
    "accelerator": "GPU"
  },
  "cells": [
    {
      "cell_type": "markdown",
      "metadata": {
        "id": "view-in-github",
        "colab_type": "text"
      },
      "source": [
        "<a href=\"https://colab.research.google.com/github/ryanthomson1/FIREBASE/blob/master/Chatterbox_TTS_Colab_Demo.ipynb\" target=\"_parent\"><img src=\"https://colab.research.google.com/assets/colab-badge.svg\" alt=\"Open In Colab\"/></a>"
      ]
    },
    {
      "cell_type": "code",
      "execution_count": null,
      "metadata": {
        "id": "lcQFeUm-0tY6"
      },
      "outputs": [],
      "source": []
    },
    {
      "cell_type": "code",
      "source": [
        "# @title 1. Setup and Installation (Robust Version)\n",
        "# Clone repository and install dependencies with error handling\n",
        "\n",
        "# Remove existing directory and clear cache\n",
        "!rm -rf Chatterbox-TTS-Server\n",
        "!pip cache purge\n",
        "\n",
        "# Clone repository\n",
        "!git clone https://github.com/devnen/Chatterbox-TTS-Server.git\n",
        "%cd Chatterbox-TTS-Server\n",
        "\n",
        "print(\"✅ Repository cloned. Installing core dependencies...\")\n",
        "\n",
        "# Install PyTorch with compatible torchvision\n",
        "!pip install torch==2.5.1+cu121 torchaudio==2.5.1+cu121 torchvision==0.20.1+cu121 --index-url https://download.pytorch.org/whl/cu121 -q\n",
        "\n",
        "# Install your Colab-compatible chatterbox fork\n",
        "!pip install git+https://github.com/devnen/chatterbox.git -q\n",
        "\n",
        "print(\"✅ Core TTS components installed. Installing server dependencies...\")\n",
        "\n",
        "# Install essential server requirements (skip problematic packages)\n",
        "!pip install fastapi uvicorn pyyaml soundfile librosa safetensors -q\n",
        "!pip install python-multipart requests jinja2 watchdog aiofiles unidecode inflect tqdm -q\n",
        "!pip install pydub audiotsm -q\n",
        "\n",
        "# Try to install parselmouth (may fail on some systems)\n",
        "!pip install parselmouth -q || echo \"Parselmouth installation failed - unvoiced segment removal will be disabled\"\n",
        "\n",
        "print(\"✅ Installation complete! Some optional packages may have been skipped.\")"
      ],
      "metadata": {
        "id": "3ghls0ts1PH_",
        "outputId": "188a2a8c-33f5-431b-9780-eeb973cb0570",
        "colab": {
          "base_uri": "https://localhost:8080/"
        }
      },
      "execution_count": null,
      "outputs": [
        {
          "output_type": "stream",
          "name": "stdout",
          "text": [
            "\u001b[33mWARNING: No matching packages\u001b[0m\u001b[33m\n",
            "\u001b[0mFiles removed: 0\n",
            "Cloning into 'Chatterbox-TTS-Server'...\n",
            "remote: Enumerating objects: 277, done.\u001b[K\n",
            "remote: Counting objects: 100% (111/111), done.\u001b[K\n",
            "remote: Compressing objects: 100% (29/29), done.\u001b[K\n",
            "remote: Total 277 (delta 92), reused 87 (delta 81), pack-reused 166 (from 1)\u001b[K\n",
            "Receiving objects: 100% (277/277), 18.95 MiB | 11.05 MiB/s, done.\n",
            "Resolving deltas: 100% (129/129), done.\n",
            "/content/Chatterbox-TTS-Server\n",
            "✅ Repository cloned. Installing core dependencies...\n",
            "\u001b[2K     \u001b[90m━━━━━━━━━━━━━━━━━━━━━━━━━━━━━━━━━━━━━━━\u001b[0m \u001b[32m780.5/780.5 MB\u001b[0m \u001b[31m1.9 MB/s\u001b[0m eta \u001b[36m0:00:00\u001b[0m\n",
            "\u001b[2K     \u001b[90m━━━━━━━━━━━━━━━━━━━━━━━━━━━━━━━━━━━━━━━━\u001b[0m \u001b[32m3.4/3.4 MB\u001b[0m \u001b[31m45.4 MB/s\u001b[0m eta \u001b[36m0:00:00\u001b[0m\n",
            "\u001b[2K     \u001b[90m━━━━━━━━━━━━━━━━━━━━━━━━━━━━━━━━━━━━━━━━\u001b[0m \u001b[32m7.3/7.3 MB\u001b[0m \u001b[31m112.5 MB/s\u001b[0m eta \u001b[36m0:00:00\u001b[0m\n",
            "\u001b[2K     \u001b[90m━━━━━━━━━━━━━━━━━━━━━━━━━━━━━━━━━━━━━━━━\u001b[0m \u001b[32m23.7/23.7 MB\u001b[0m \u001b[31m80.4 MB/s\u001b[0m eta \u001b[36m0:00:00\u001b[0m\n",
            "\u001b[2K     \u001b[90m━━━━━━━━━━━━━━━━━━━━━━━━━━━━━━━━━━━━━━\u001b[0m \u001b[32m823.6/823.6 kB\u001b[0m \u001b[31m51.6 MB/s\u001b[0m eta \u001b[36m0:00:00\u001b[0m\n",
            "\u001b[2K     \u001b[90m━━━━━━━━━━━━━━━━━━━━━━━━━━━━━━━━━━━━━━━\u001b[0m \u001b[32m14.1/14.1 MB\u001b[0m \u001b[31m108.1 MB/s\u001b[0m eta \u001b[36m0:00:00\u001b[0m\n",
            "\u001b[2K     \u001b[90m━━━━━━━━━━━━━━━━━━━━━━━━━━━━━━━━━━━━━━━\u001b[0m \u001b[32m664.8/664.8 MB\u001b[0m \u001b[31m2.0 MB/s\u001b[0m eta \u001b[36m0:00:00\u001b[0m\n",
            "\u001b[2K     \u001b[90m━━━━━━━━━━━━━━━━━━━━━━━━━━━━━━━━━━━━━━━\u001b[0m \u001b[32m410.6/410.6 MB\u001b[0m \u001b[31m2.8 MB/s\u001b[0m eta \u001b[36m0:00:00\u001b[0m\n",
            "\u001b[2K     \u001b[90m━━━━━━━━━━━━━━━━━━━━━━━━━━━━━━━━━━━━━━━\u001b[0m \u001b[32m121.6/121.6 MB\u001b[0m \u001b[31m7.7 MB/s\u001b[0m eta \u001b[36m0:00:00\u001b[0m\n",
            "\u001b[2K     \u001b[90m━━━━━━━━━━━━━━━━━━━━━━━━━━━━━━━━━━━━━━━━\u001b[0m \u001b[32m56.5/56.5 MB\u001b[0m \u001b[31m13.0 MB/s\u001b[0m eta \u001b[36m0:00:00\u001b[0m\n",
            "\u001b[2K     \u001b[90m━━━━━━━━━━━━━━━━━━━━━━━━━━━━━━━━━━━━━━━\u001b[0m \u001b[32m124.2/124.2 MB\u001b[0m \u001b[31m7.8 MB/s\u001b[0m eta \u001b[36m0:00:00\u001b[0m\n",
            "\u001b[2K     \u001b[90m━━━━━━━━━━━━━━━━━━━━━━━━━━━━━━━━━━━━━━━\u001b[0m \u001b[32m196.0/196.0 MB\u001b[0m \u001b[31m5.7 MB/s\u001b[0m eta \u001b[36m0:00:00\u001b[0m\n",
            "\u001b[2K     \u001b[90m━━━━━━━━━━━━━━━━━━━━━━━━━━━━━━━━━━━━━━━━\u001b[0m \u001b[32m99.1/99.1 kB\u001b[0m \u001b[31m10.3 MB/s\u001b[0m eta \u001b[36m0:00:00\u001b[0m\n",
            "\u001b[2K     \u001b[90m━━━━━━━━━━━━━━━━━━━━━━━━━━━━━━━━━━━━━━━\u001b[0m \u001b[32m209.5/209.5 MB\u001b[0m \u001b[31m5.6 MB/s\u001b[0m eta \u001b[36m0:00:00\u001b[0m\n",
            "\u001b[?25h"
          ]
        }
      ]
    },
    {
      "cell_type": "code",
      "source": [
        "# @title 2. Launch the Server! ⚡\n",
        "# Starts the TTS server with memory optimization\n",
        "\n",
        "import threading\n",
        "import time\n",
        "import uvicorn\n",
        "import gc\n",
        "from google.colab.output import serve_kernel_port_as_window\n",
        "\n",
        "port = 8004\n",
        "\n",
        "print(\"🛑 Stopping existing servers...\")\n",
        "!fuser -k 8004/tcp 2>/dev/null || echo \"Port clear\"\n",
        "!pkill -f \"uvicorn.*server\" 2>/dev/null || echo \"No running servers\"\n",
        "\n",
        "print(\"🧹 Clearing memory...\")\n",
        "gc.collect()\n",
        "\n",
        "%cd /content/Chatterbox-TTS-Server\n",
        "\n",
        "def run_server():\n",
        "    try:\n",
        "        from server import app\n",
        "        print(\"✅ Server starting...\")\n",
        "        # Add memory-efficient settings\n",
        "        uvicorn.run(\n",
        "            app,\n",
        "            host=\"0.0.0.0\",\n",
        "            port=port,\n",
        "            log_level=\"warning\",  # Reduce log verbosity\n",
        "            access_log=False      # Disable access logs to save memory\n",
        "        )\n",
        "    except Exception as e:\n",
        "        print(f\"❌ Server error: {e}\")\n",
        "\n",
        "print(\"🚀 Starting TTS server...\")\n",
        "\n",
        "thread = threading.Thread(target=run_server, daemon=True)\n",
        "thread.start()\n",
        "\n",
        "time.sleep(25)  # Extra time for model loading\n",
        "\n",
        "print(\"🎉 Server ready! Click below:\")\n",
        "serve_kernel_port_as_window(port)\n",
        "\n",
        "print(\"\\n💡 Tips to prevent crashes:\")\n",
        "print(\"• Use shorter texts (under 500 characters)\")\n",
        "print(\"• Wait for each generation to complete before starting another\")\n",
        "print(\"• If it crashes, just re-run this cell\")"
      ],
      "metadata": {
        "id": "Wm_FHPwV1Zkx"
      },
      "execution_count": null,
      "outputs": []
    }
  ]
}